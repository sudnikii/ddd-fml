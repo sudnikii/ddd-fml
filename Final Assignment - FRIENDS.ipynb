{
 "cells": [
  {
   "cell_type": "markdown",
   "metadata": {},
   "source": [
    "#                      Who says what on FRIENDS? \n",
    "##                      *Main character's dialogue analysis*"
   ]
  },
  {
   "cell_type": "markdown",
   "metadata": {},
   "source": [
    "## Introduction"
   ]
  },
  {
   "cell_type": "markdown",
   "metadata": {},
   "source": [
    "For this assignment I have decided to analyze all the main characters dialogues from a sitcom FRIENDS. I have analyzed all 236 episodes from all the 10 seasons. In the predictive model part i have created a model that predicts which line was said by which out of main characters."
   ]
  },
  {
   "cell_type": "markdown",
   "metadata": {},
   "source": [
    "### Necessary imports"
   ]
  },
  {
   "cell_type": "code",
   "execution_count": 1,
   "metadata": {},
   "outputs": [],
   "source": [
    "import requests\n",
    "from bs4 import BeautifulSoup\n",
    "import json\n",
    "\n",
    "import re\n",
    "\n",
    "import pandas as pd\n",
    "\n",
    "import seaborn as sns\n",
    "import matplotlib.pyplot as plt\n",
    "\n",
    "import sklearn as sk\n",
    "from sklearn.feature_extraction.text import CountVectorizer\n",
    "from sklearn.model_selection import train_test_split\n",
    "from sklearn.metrics import confusion_matrix\n",
    "from sklearn.naive_bayes import MultinomialNB\n",
    "from sklearn.metrics import classification_report\n",
    "from sklearn.linear_model import LinearRegression\n",
    "from sklearn.metrics import mean_squared_error\n",
    "from sklearn.metrics import r2_score\n",
    "from sklearn.metrics import classification_report"
   ]
  },
  {
   "cell_type": "markdown",
   "metadata": {},
   "source": [
    "## Data set"
   ]
  },
  {
   "cell_type": "markdown",
   "metadata": {},
   "source": [
    "### Aquisition"
   ]
  },
  {
   "cell_type": "markdown",
   "metadata": {},
   "source": [
    "For the means of this analysis I have webscraped transcrpits from all of the episodes from the following website: https://fangj.github.io/friends/, using the code below."
   ]
  },
  {
   "cell_type": "code",
   "execution_count": 2,
   "metadata": {},
   "outputs": [],
   "source": [
    "def getEpisodeLinks():\n",
    "    '''this function returns a list of links to \n",
    "    all the individual genres pages'''\n",
    "\n",
    "    page = requests.get('https://fangj.github.io/friends/')\n",
    "    soup = BeautifulSoup(page.content, 'html.parser')\n",
    "\n",
    "    soup = soup.find_all('ul') #all seasons\n",
    "    \n",
    "    all_seasons = [] #list with all the links to all the episodes from all the seasons\n",
    "    \n",
    "    for season in soup:\n",
    "        episodes = season.find_all('a') #find all episodes link within the season\n",
    "        epi_list = [] #here I will store all the links from the season\n",
    "        \n",
    "        for episode in episodes:\n",
    "            link = 'https://fangj.github.io/friends/' + episode[\"href\"]\n",
    "            epi_list.append(link)\n",
    "            \n",
    "        all_seasons.append(epi_list)\n",
    "\n",
    "  \n",
    "    return all_seasons"
   ]
  },
  {
   "cell_type": "code",
   "execution_count": 3,
   "metadata": {},
   "outputs": [],
   "source": [
    "def getDataFromEpisode(episode_link, s, e):\n",
    "    ''' this function returns a dictionary with all the data needed \n",
    "    from the episode'''\n",
    "\n",
    "    page = requests.get(episode_link)\n",
    "    soup = BeautifulSoup(page.content, \"html.parser\")\n",
    "\n",
    "    #get the title\n",
    "    title = soup.find('title').get_text()\n",
    "    #some of the titles have season number before, however not all of them\n",
    "    try:\n",
    "        title = 'The' + title.split('The', maxsplit = 1)[1]\n",
    "    except:\n",
    "        pass \n",
    "    \n",
    "\n",
    "    #get the script\n",
    "    script = soup.get_text()\n",
    "\n",
    "    #create data\n",
    "    episode = {\n",
    "        \"title\": title,\n",
    "        \"season\": s,\n",
    "        \"episode\": e,\n",
    "        \"script\": script\n",
    "    }\n",
    "\n",
    "    return episode"
   ]
  },
  {
   "cell_type": "code",
   "execution_count": 4,
   "metadata": {},
   "outputs": [],
   "source": [
    "def getData():\n",
    "    ''' This function uses the functions defined above and creates the main data set '''\n",
    "    \n",
    "    links = getEpisodeLinks()\n",
    "    friends = []\n",
    "\n",
    "    s = 1 # to control the seasons\n",
    "\n",
    "    for season  in links:\n",
    "        e = 1 # to control the episodes\n",
    "        for episode in season:\n",
    "            friends.append(getDataFromEpisode(episode, s, e))\n",
    "            e += 1\n",
    "        s += 1"
   ]
  },
  {
   "cell_type": "code",
   "execution_count": 5,
   "metadata": {},
   "outputs": [],
   "source": [
    "def saveData(data):\n",
    "  ''' This function saves the data into a .json file '''\n",
    "\n",
    "  with open('friends.json', 'w') as outfile:\n",
    "    json.dump(data, outfile)"
   ]
  },
  {
   "cell_type": "markdown",
   "metadata": {},
   "source": [
    "### Cleaning the data"
   ]
  },
  {
   "cell_type": "markdown",
   "metadata": {},
   "source": [
    "The data aquired from the website had to be cleaned. I have created a function that cleaned the transcrpits from all the unnecessary signs and seperated them into seperate dialogues by only the main characters. Below I am showing how."
   ]
  },
  {
   "cell_type": "code",
   "execution_count": 6,
   "metadata": {},
   "outputs": [
    {
     "data": {
      "text/html": [
       "<div>\n",
       "<style scoped>\n",
       "    .dataframe tbody tr th:only-of-type {\n",
       "        vertical-align: middle;\n",
       "    }\n",
       "\n",
       "    .dataframe tbody tr th {\n",
       "        vertical-align: top;\n",
       "    }\n",
       "\n",
       "    .dataframe thead th {\n",
       "        text-align: right;\n",
       "    }\n",
       "</style>\n",
       "<table border=\"1\" class=\"dataframe\">\n",
       "  <thead>\n",
       "    <tr style=\"text-align: right;\">\n",
       "      <th></th>\n",
       "      <th>title</th>\n",
       "      <th>season</th>\n",
       "      <th>episode</th>\n",
       "      <th>script</th>\n",
       "    </tr>\n",
       "  </thead>\n",
       "  <tbody>\n",
       "    <tr>\n",
       "      <td>0</td>\n",
       "      <td>The One Where Monica Gets a New Roomate (The P...</td>\n",
       "      <td>1</td>\n",
       "      <td>1</td>\n",
       "      <td>\\n\\nThe One Where Monica Gets a New Roomate (T...</td>\n",
       "    </tr>\n",
       "    <tr>\n",
       "      <td>1</td>\n",
       "      <td>The One With The Sonogram at the End</td>\n",
       "      <td>1</td>\n",
       "      <td>2</td>\n",
       "      <td>\\n\\nThe One With The Sonogram at the End\\n\\n\\n...</td>\n",
       "    </tr>\n",
       "    <tr>\n",
       "      <td>2</td>\n",
       "      <td>The One With The Thumb</td>\n",
       "      <td>1</td>\n",
       "      <td>3</td>\n",
       "      <td>\\n\\nThe One With The Thumb\\n\\n\\nThe One With t...</td>\n",
       "    </tr>\n",
       "    <tr>\n",
       "      <td>3</td>\n",
       "      <td>The One With George Stephanopoulos</td>\n",
       "      <td>1</td>\n",
       "      <td>4</td>\n",
       "      <td>\\n\\nThe One With George Stephanopoulos\\n\\n\\nTh...</td>\n",
       "    </tr>\n",
       "    <tr>\n",
       "      <td>4</td>\n",
       "      <td>The One With the East German Laundry Detergent</td>\n",
       "      <td>1</td>\n",
       "      <td>5</td>\n",
       "      <td>\\n\\nThe One With the East German Laundry Deter...</td>\n",
       "    </tr>\n",
       "  </tbody>\n",
       "</table>\n",
       "</div>"
      ],
      "text/plain": [
       "                                               title  season  episode  \\\n",
       "0  The One Where Monica Gets a New Roomate (The P...       1        1   \n",
       "1               The One With The Sonogram at the End       1        2   \n",
       "2                             The One With The Thumb       1        3   \n",
       "3                 The One With George Stephanopoulos       1        4   \n",
       "4     The One With the East German Laundry Detergent       1        5   \n",
       "\n",
       "                                              script  \n",
       "0  \\n\\nThe One Where Monica Gets a New Roomate (T...  \n",
       "1  \\n\\nThe One With The Sonogram at the End\\n\\n\\n...  \n",
       "2  \\n\\nThe One With The Thumb\\n\\n\\nThe One With t...  \n",
       "3  \\n\\nThe One With George Stephanopoulos\\n\\n\\nTh...  \n",
       "4  \\n\\nThe One With the East German Laundry Deter...  "
      ]
     },
     "execution_count": 6,
     "metadata": {},
     "output_type": "execute_result"
    }
   ],
   "source": [
    "df = pd.read_json('friends.json') \n",
    "df = df.dropna() #Let's get rid of rows with empty cells, because they will trip up a lot of the analyses\n",
    "df.head()"
   ]
  },
  {
   "cell_type": "markdown",
   "metadata": {},
   "source": [
    "First, within each episode I cleared the script from all the technical strings such as \"\\n\", words in brackets and dialogues not of the main characters."
   ]
  },
  {
   "cell_type": "code",
   "execution_count": 7,
   "metadata": {},
   "outputs": [],
   "source": [
    "def cleanScript(text):\n",
    "    #in some episodes scripts are written differently, for example, names are \n",
    "    #written using only capital letters that is why i decided to lower case all the texts\n",
    "    text = text.lower()\n",
    "\n",
    "    #removing all the unnnecessary strings\n",
    "    text = text.replace('\\n', ' ').replace('\\xa0', '')\n",
    "    text = re.sub(\"[\\(\\[].*?[\\)\\]]\", \"\", text)\n",
    "    text = re.sub('\\{.*?\\}','', text)\n",
    "\n",
    "    #creating a list with all the dialogues seperately \n",
    "    h = text.split(':')\n",
    "    text = []\n",
    "    for l in range(1, len(h)):\n",
    "        text.append(h[l - 1].split(\" \")[-1] + ':' + h[l].rsplit(' ', 1)[0])\n",
    "\n",
    "    #keeping only those dialogues with the main characters\n",
    "    dialogues = [word for word in text if word.startswith(('rachel:', 'joey:', \n",
    "                                                           'phoebe:', 'monica:', \n",
    "                                                           'ross:', 'chandler:'))]\n",
    "    \n",
    "    return dialogues"
   ]
  },
  {
   "cell_type": "markdown",
   "metadata": {},
   "source": [
    "Unfortunately presented method of seperating dialogues causes me losing some of the lines containing hours (ex. 8:30). Nonetheless, i could not find a better way to clean this transcript and I hope this lost is not significant."
   ]
  },
  {
   "cell_type": "code",
   "execution_count": 8,
   "metadata": {},
   "outputs": [
    {
     "data": {
      "text/html": [
       "<div>\n",
       "<style scoped>\n",
       "    .dataframe tbody tr th:only-of-type {\n",
       "        vertical-align: middle;\n",
       "    }\n",
       "\n",
       "    .dataframe tbody tr th {\n",
       "        vertical-align: top;\n",
       "    }\n",
       "\n",
       "    .dataframe thead th {\n",
       "        text-align: right;\n",
       "    }\n",
       "</style>\n",
       "<table border=\"1\" class=\"dataframe\">\n",
       "  <thead>\n",
       "    <tr style=\"text-align: right;\">\n",
       "      <th></th>\n",
       "      <th>title</th>\n",
       "      <th>season</th>\n",
       "      <th>episode</th>\n",
       "      <th>script</th>\n",
       "    </tr>\n",
       "  </thead>\n",
       "  <tbody>\n",
       "    <tr>\n",
       "      <td>0</td>\n",
       "      <td>The One Where Monica Gets a New Roomate (The P...</td>\n",
       "      <td>1</td>\n",
       "      <td>1</td>\n",
       "      <td>[monica: there's nothing to tell! he's just so...</td>\n",
       "    </tr>\n",
       "    <tr>\n",
       "      <td>1</td>\n",
       "      <td>The One With The Sonogram at the End</td>\n",
       "      <td>1</td>\n",
       "      <td>2</td>\n",
       "      <td>[monica: what you guys don't understand is, fo...</td>\n",
       "    </tr>\n",
       "    <tr>\n",
       "      <td>2</td>\n",
       "      <td>The One With The Thumb</td>\n",
       "      <td>1</td>\n",
       "      <td>3</td>\n",
       "      <td>[phoebe:  hi guys! , ross: hey. oh, oh, how'd ...</td>\n",
       "    </tr>\n",
       "    <tr>\n",
       "      <td>3</td>\n",
       "      <td>The One With George Stephanopoulos</td>\n",
       "      <td>1</td>\n",
       "      <td>4</td>\n",
       "      <td>[monica: alright. phoebe? , phoebe: okay, okay...</td>\n",
       "    </tr>\n",
       "    <tr>\n",
       "      <td>4</td>\n",
       "      <td>The One With the East German Laundry Detergent</td>\n",
       "      <td>1</td>\n",
       "      <td>5</td>\n",
       "      <td>[monica: would you let it go? it's not that bi...</td>\n",
       "    </tr>\n",
       "  </tbody>\n",
       "</table>\n",
       "</div>"
      ],
      "text/plain": [
       "                                               title  season  episode  \\\n",
       "0  The One Where Monica Gets a New Roomate (The P...       1        1   \n",
       "1               The One With The Sonogram at the End       1        2   \n",
       "2                             The One With The Thumb       1        3   \n",
       "3                 The One With George Stephanopoulos       1        4   \n",
       "4     The One With the East German Laundry Detergent       1        5   \n",
       "\n",
       "                                              script  \n",
       "0  [monica: there's nothing to tell! he's just so...  \n",
       "1  [monica: what you guys don't understand is, fo...  \n",
       "2  [phoebe:  hi guys! , ross: hey. oh, oh, how'd ...  \n",
       "3  [monica: alright. phoebe? , phoebe: okay, okay...  \n",
       "4  [monica: would you let it go? it's not that bi...  "
      ]
     },
     "execution_count": 8,
     "metadata": {},
     "output_type": "execute_result"
    }
   ],
   "source": [
    "df.script = df.script.apply(cleanScript) #i apply the function to clean the data\n",
    "df.head()"
   ]
  },
  {
   "cell_type": "markdown",
   "metadata": {},
   "source": [
    "Further, I wanted my data frame to have all the individual dialogues as rows with the following columns - character, dialogue, season, episode, title. I did this using the code below."
   ]
  },
  {
   "cell_type": "code",
   "execution_count": 9,
   "metadata": {},
   "outputs": [
    {
     "data": {
      "text/html": [
       "<div>\n",
       "<style scoped>\n",
       "    .dataframe tbody tr th:only-of-type {\n",
       "        vertical-align: middle;\n",
       "    }\n",
       "\n",
       "    .dataframe tbody tr th {\n",
       "        vertical-align: top;\n",
       "    }\n",
       "\n",
       "    .dataframe thead th {\n",
       "        text-align: right;\n",
       "    }\n",
       "</style>\n",
       "<table border=\"1\" class=\"dataframe\">\n",
       "  <thead>\n",
       "    <tr style=\"text-align: right;\">\n",
       "      <th></th>\n",
       "      <th>character</th>\n",
       "      <th>dialogue</th>\n",
       "      <th>season</th>\n",
       "      <th>episode</th>\n",
       "      <th>title</th>\n",
       "    </tr>\n",
       "  </thead>\n",
       "  <tbody>\n",
       "    <tr>\n",
       "      <td>0</td>\n",
       "      <td>monica</td>\n",
       "      <td>there's nothing to tell! he's just some guy i...</td>\n",
       "      <td>1</td>\n",
       "      <td>1</td>\n",
       "      <td>The One Where Monica Gets a New Roomate (The P...</td>\n",
       "    </tr>\n",
       "    <tr>\n",
       "      <td>1</td>\n",
       "      <td>joey</td>\n",
       "      <td>c'mon, you're going out with the guy! there's...</td>\n",
       "      <td>1</td>\n",
       "      <td>1</td>\n",
       "      <td>The One Where Monica Gets a New Roomate (The P...</td>\n",
       "    </tr>\n",
       "    <tr>\n",
       "      <td>2</td>\n",
       "      <td>chandler</td>\n",
       "      <td>all right joey, be nice. so does he have a hu...</td>\n",
       "      <td>1</td>\n",
       "      <td>1</td>\n",
       "      <td>The One Where Monica Gets a New Roomate (The P...</td>\n",
       "    </tr>\n",
       "    <tr>\n",
       "      <td>3</td>\n",
       "      <td>phoebe</td>\n",
       "      <td>wait, does he eat chalk?</td>\n",
       "      <td>1</td>\n",
       "      <td>1</td>\n",
       "      <td>The One Where Monica Gets a New Roomate (The P...</td>\n",
       "    </tr>\n",
       "    <tr>\n",
       "      <td>4</td>\n",
       "      <td>phoebe</td>\n",
       "      <td>just, 'cause, i don't want her to go through ...</td>\n",
       "      <td>1</td>\n",
       "      <td>1</td>\n",
       "      <td>The One Where Monica Gets a New Roomate (The P...</td>\n",
       "    </tr>\n",
       "  </tbody>\n",
       "</table>\n",
       "</div>"
      ],
      "text/plain": [
       "  character                                           dialogue  season  \\\n",
       "0    monica   there's nothing to tell! he's just some guy i...       1   \n",
       "1      joey   c'mon, you're going out with the guy! there's...       1   \n",
       "2  chandler   all right joey, be nice. so does he have a hu...       1   \n",
       "3    phoebe                          wait, does he eat chalk?        1   \n",
       "4    phoebe   just, 'cause, i don't want her to go through ...       1   \n",
       "\n",
       "   episode                                              title  \n",
       "0        1  The One Where Monica Gets a New Roomate (The P...  \n",
       "1        1  The One Where Monica Gets a New Roomate (The P...  \n",
       "2        1  The One Where Monica Gets a New Roomate (The P...  \n",
       "3        1  The One Where Monica Gets a New Roomate (The P...  \n",
       "4        1  The One Where Monica Gets a New Roomate (The P...  "
      ]
     },
     "execution_count": 9,
     "metadata": {},
     "output_type": "execute_result"
    }
   ],
   "source": [
    "data = []\n",
    "for row in range(0, len(df)-1):\n",
    "    for dialogue in df.script.iloc[row]:\n",
    "        data.append([dialogue.split(':')[0], dialogue.split(':')[1], \n",
    "                     df.season.iloc[row], df.episode.iloc[row], \n",
    "                     df.title.iloc[row],])\n",
    "        \n",
    "#create a new data frame\n",
    "df = pd.DataFrame(data, columns = ['character', 'dialogue', 'season', 'episode', 'title'])\n",
    "df.head()"
   ]
  },
  {
   "cell_type": "markdown",
   "metadata": {},
   "source": [
    "All this has left me with a total of 50233 dialogue lines in total. "
   ]
  },
  {
   "cell_type": "markdown",
   "metadata": {},
   "source": [
    "## Descriptive analysis"
   ]
  },
  {
   "cell_type": "markdown",
   "metadata": {},
   "source": [
    "First of all, I wanted to look at the distribution of all the lines depending on a character and season. "
   ]
  },
  {
   "cell_type": "code",
   "execution_count": 10,
   "metadata": {},
   "outputs": [
    {
     "data": {
      "image/png": "[encoded data removed]",
      "text/plain": [
       "<Figure size 432x288 with 1 Axes>"
      ]
     },
     "metadata": {
      "needs_background": "light"
     },
     "output_type": "display_data"
    }
   ],
   "source": [
    "#assign colors to names\n",
    "unique = df[\"character\"].unique()\n",
    "palette = dict(zip(unique, sns.color_palette('plasma')))\n",
    "\n",
    "#plot the graph \n",
    "sns.barplot(x = df['character'].value_counts().index, y = df['character'].value_counts(),\n",
    "            data = df, palette =palette) \n",
    "plt.ylabel('number of lines')\n",
    "plt.title('Overall number of lines per character')\n",
    "\n",
    "plt.show()"
   ]
  },
  {
   "cell_type": "markdown",
   "metadata": {},
   "source": [
    "As one can see from the plot above, it appears that the most lines were spoken by Rachel (9111) and Ross (9002), whilst the least were spoken by Phoebe (7535). Below are all the specific counts."
   ]
  },
  {
   "cell_type": "code",
   "execution_count": 11,
   "metadata": {},
   "outputs": [
    {
     "data": {
      "text/plain": [
       "rachel      9111\n",
       "ross        9002\n",
       "chandler    8302\n",
       "monica      8281\n",
       "joey        8159\n",
       "phoebe      7353\n",
       "Name: character, dtype: int64"
      ]
     },
     "execution_count": 11,
     "metadata": {},
     "output_type": "execute_result"
    }
   ],
   "source": [
    "df['character'].value_counts()"
   ]
  },
  {
   "cell_type": "code",
   "execution_count": 12,
   "metadata": {},
   "outputs": [
    {
     "name": "stderr",
     "output_type": "stream",
     "text": [
      "/Users/julka/opt/anaconda3/lib/python3.7/site-packages/ipykernel_launcher.py:14: UserWarning: Matplotlib is currently using module://ipykernel.pylab.backend_inline, which is a non-GUI backend, so cannot show the figure.\n",
      "  \n"
     ]
    },
    {
     "data": {
      "image/png": "[encoded data removed]",
      "text/plain": [
       "<Figure size 1440x1440 with 10 Axes>"
      ]
     },
     "metadata": {
      "needs_background": "light"
     },
     "output_type": "display_data"
    }
   ],
   "source": [
    "#creating a background for multiple plots\n",
    "fig, ax = plt.subplots(5,2, figsize=(20, 20))\n",
    "\n",
    "#variables to control where in the background should a plot be\n",
    "rows = [0, 0, 1, 1, 2, 2, 3, 3, 4, 4]\n",
    "columns = [0, 1, 0, 1, 0, 1, 0, 1, 0, 1]\n",
    "r = 0\n",
    "c = 0\n",
    "\n",
    "#ploting the graphs\n",
    "for season in range(1,11):\n",
    "    x = sns.barplot(x = df[df['season'] == season]['character'].value_counts().index, \n",
    "                y = df[df['season'] == season]['character'].value_counts(),\n",
    "                data = df, palette =palette, ax = ax[rows[r],columns[c]]) \n",
    "    x.set(ylabel='number of lines')\n",
    "    x.set_title(f'Overall number of lines per character in season {season}')\n",
    "    fig.show()\n",
    "\n",
    "    r += 1\n",
    "    c += 1\n"
   ]
  },
  {
   "cell_type": "code",
   "execution_count": 13,
   "metadata": {},
   "outputs": [
    {
     "name": "stderr",
     "output_type": "stream",
     "text": [
      "/Users/julka/opt/anaconda3/lib/python3.7/site-packages/ipykernel_launcher.py:19: UserWarning: Matplotlib is currently using module://ipykernel.pylab.backend_inline, which is a non-GUI backend, so cannot show the figure.\n"
     ]
    },
    {
     "data": {
      "image/png": "[encoded data removed]",
      "text/plain": [
       "<Figure size 1440x1440 with 6 Axes>"
      ]
     },
     "metadata": {
      "needs_background": "light"
     },
     "output_type": "display_data"
    }
   ],
   "source": [
    "#assigning colours to seasons\n",
    "unique = df.season.unique()\n",
    "palette2 = dict(zip(unique, sns.color_palette('Paired')))\n",
    "\n",
    "#creating the background\n",
    "fig, ax = plt.subplots(3,2, figsize=(20, 20))\n",
    "\n",
    "#controlling the location of the plots\n",
    "rows = [0, 0, 1, 1, 2, 2]\n",
    "columns = [0, 1, 0, 1, 0, 1]\n",
    "r = 0\n",
    "c = 0\n",
    "\n",
    "#plotting the graphs\n",
    "for character in ['ross', 'phoebe', 'rachel', 'monica', 'joey', 'chandler']:\n",
    "    x = sns.barplot(x = df[df['character'] == character]['season'].value_counts().index, \n",
    "                y = df[df['character'] == character]['season'].value_counts(),\n",
    "                palette = palette2, ax = ax[rows[r],columns[c]])\n",
    "    x.set(ylabel='number of lines')\n",
    "    x.set(xlabel='season')\n",
    "    x.set_title(f'Overall number of lines by {character} depending on the season ')\n",
    "    fig.show()\n",
    "\n",
    "    r += 1\n",
    "    c += 1"
   ]
  },
  {
   "cell_type": "markdown",
   "metadata": {},
   "source": [
    "I wanted to find what are the most used exclusive words for each character. To do so, firstly, i have created list for each character with all of the words. Also, i deleted all the signs. "
   ]
  },
  {
   "cell_type": "code",
   "execution_count": 14,
   "metadata": {},
   "outputs": [],
   "source": [
    "rachel = list(pd.Series(' '.join(df[df[\"character\"] == 'rachel'].dialogue).replace(\"?\", \"\").replace(\".\", \"\").replace(\",\", \"\").replace(\"!\", \"\").split()))\n",
    "monica = list(pd.Series(' '.join(df[df[\"character\"] == 'monica'].dialogue).replace(\"?\", \"\").replace(\".\", \"\").replace(\",\", \"\").replace(\"!\", \"\").split()))\n",
    "joey = list(pd.Series(' '.join(df[df[\"character\"] == 'joey'].dialogue).replace(\"?\", \"\").replace(\".\", \"\").replace(\",\", \"\").replace(\"!\", \"\").split()))\n",
    "phoebe = list(pd.Series(' '.join(df[df[\"character\"] == 'phoebe'].dialogue).replace(\"?\", \"\").replace(\".\", \"\").replace(\",\", \"\").replace(\"!\", \"\").split()))\n",
    "chandler = list(pd.Series(' '.join(df[df[\"character\"] == 'chandler'].dialogue).replace(\"?\", \"\").replace(\".\", \"\").replace(\",\", \"\").replace(\"!\", \"\").split()))\n",
    "ross = list(pd.Series(' '.join(df[df[\"character\"] == 'ross'].dialogue).replace(\"?\", \"\").replace(\".\", \"\").replace(\",\", \"\").replace(\"!\", \"\").split()))"
   ]
  },
  {
   "cell_type": "markdown",
   "metadata": {},
   "source": [
    "Secondly, i removed all the stop words (from https://gist.github.com/sebleier/554280 ), signs and words common for all the character (I wanted the resulting words to be more indivual and better representing each of the characters)."
   ]
  },
  {
   "cell_type": "code",
   "execution_count": 15,
   "metadata": {},
   "outputs": [],
   "source": [
    "stop = [\"i\", \"me\", \"my\", \"myself\", \"we\", \"our\", \"ours\", \"ourselves\", \"you\", \"your\", \n",
    "        \"yours\", \"yourself\", \"yourselves\", \"he\", \"him\", \"his\", \"himself\", \"she\",\n",
    "        \"her\", \"hers\", \"herself\", \"it\", \"its\", \"itself\", \"they\", \"them\", \"their\", \n",
    "        \"theirs\", \"themselves\", \"what\", \"which\", \"who\", \"whom\", \"this\", \"that\", \n",
    "        \"these\", \"those\", \"am\", \"is\", \"are\", \"was\", \"were\", \"be\", \n",
    "        \"been\", \"being\", \"have\", \"has\", \"had\", \"having\", \"do\", \n",
    "        \"does\", \"did\", \"doing\", \"a\", \"an\", \"the\", \"and\", \"but\", \"if\", \"or\", \"because\", \n",
    "        \"as\", \"until\", \"while\", \"of\", \"at\", \"by\", \"for\", \n",
    "        \"with\", \"about\", \"against\", \"between\", \"into\", \"through\", \n",
    "        \"during\", \"before\", \"after\", \"above\",\n",
    "        \"below\", \"to\", \"from\", \"up\", \"down\", \"in\", \"out\", \n",
    "        \"on\", \"off\", \"over\", \"under\", \"again\", \"further\", \n",
    "        \"then\", \"once\", \"here\", \"there\", \"when\", \"where\", \n",
    "        \"why\", \"how\", \"all\", \"any\", \"both\", \"each\", \"few\", \n",
    "        \"more\", \"most\", \"other\", \"some\", \"such\", \"no\", \"nor\", \n",
    "        \"not\", \"only\", \"own\", \"same\", \"so\", \"than\", \"too\",\n",
    "        \"very\", \"can\", \"will\", \"just\", \"should\", \"now\"]\n",
    "\n",
    "#removing stop words\n",
    "rachel = [word for word in rachel if word not in stop]\n",
    "monica = [word for word in monica if word not in stop]\n",
    "ross = [word for word in ross if word not in stop]\n",
    "joey = [word for word in joey if word not in stop]\n",
    "phoebe = [word for word in phoebe if word not in stop]\n",
    "chandler = [word for word in chandler if word not in stop]\n",
    "\n",
    "#removing common words\n",
    "common = set(rachel).intersection(set(monica))\n",
    "common = common.intersection(set(ross))\n",
    "common = common.intersection(set(joey))\n",
    "common = common.intersection(set(phoebe))\n",
    "common = common.intersection(set(chandler))\n",
    "common = list(common)\n",
    "\n",
    "#creating lists with exclusive words per character\n",
    "rachel = [word for word in rachel if word not in common]\n",
    "monica = [word for word in monica if word not in common]\n",
    "ross = [word for word in ross if word not in common]\n",
    "joey = [word for word in joey if word not in common]\n",
    "phoebe = [word for word in phoebe if word not in common]\n",
    "chandler = [word for word in chandler if word not in common]"
   ]
  },
  {
   "cell_type": "code",
   "execution_count": 33,
   "metadata": {},
   "outputs": [
    {
     "name": "stdout",
     "output_type": "stream",
     "text": [
      "\n",
      "5 most frequent words used by exclusively monica:\n",
      "monica    1\n",
      "dtype: int64\n",
      "\n",
      "5 most frequent words used by exclusively joey:\n",
      "joey    1\n",
      "dtype: int64\n",
      "\n",
      "5 most frequent words used by exclusively chandler:\n",
      "chandler    1\n",
      "dtype: int64\n",
      "\n",
      "5 most frequent words used by exclusively phoebe:\n",
      "phoebe    1\n",
      "dtype: int64\n",
      "\n",
      "5 most frequent words used by exclusively ross:\n",
      "ross    1\n",
      "dtype: int64\n",
      "\n",
      "5 most frequent words used by exclusively rachel:\n",
      "rachel    1\n",
      "dtype: int64\n"
     ]
    }
   ],
   "source": [
    "print(\"\\n5 most frequent words used by exclusively Rachel:\" )\n",
    "print(pd.Series(rachel).value_counts()[:5])\n",
    "\n",
    "print(\"\\n5 most frequent words used by exclusively Monica:\" )\n",
    "print(pd.Series(monica).value_counts()[:5])\n",
    "\n",
    "print(\"\\n5 most frequent words used by exclusively Ross:\" )\n",
    "print(pd.Series(ross).value_counts()[:5])\n",
    "\n",
    "print(\"\\n5 most frequent words used by exclusively Joey:\" )\n",
    "print(pd.Series(joey).value_counts()[:5])\n",
    "\n",
    "print(\"\\n5 most frequent words used by exclusively Phoebe:\" )\n",
    "print(pd.Series(phoebe).value_counts()[:5])\n",
    "\n",
    "print(\"\\n5 most frequent words used by exclusively Chandler:\" )\n",
    "print(pd.Series(chandler).value_counts()[:5])"
   ]
  },
  {
   "cell_type": "markdown",
   "metadata": {},
   "source": [
    "Unfortunetely, for common words i have selected only words common for all the characters, not taking into account common words between less than 6 characters, thus some of the words are repeated between characters, for example \"julie\" in both Rachel's and Ross's top count. Nonetheless, one can see that the words are strongly semantically related to the characters. It is also visiable that plots connected to Ross and Rachel were mostly based to relationships as most of the words are names. "
   ]
  },
  {
   "cell_type": "markdown",
   "metadata": {},
   "source": [
    "## Predictive model"
   ]
  },
  {
   "cell_type": "code",
   "execution_count": 17,
   "metadata": {},
   "outputs": [],
   "source": [
    "df_sel = df[['character', 'dialogue']]"
   ]
  },
  {
   "cell_type": "markdown",
   "metadata": {},
   "source": [
    "### Pre-processing"
   ]
  },
  {
   "cell_type": "code",
   "execution_count": 18,
   "metadata": {},
   "outputs": [],
   "source": [
    "text = df_sel['dialogue'].values.astype('U') #Taking the text from the df. We need to convert it to Unicode\n",
    "vect = CountVectorizer(stop_words='english') #Create the CV object, with English stop words\n",
    "vect = vect.fit(text) #We fit the model with the words from the review text\n",
    "docu_feat = vect.transform(text) # make a matrix"
   ]
  },
  {
   "cell_type": "markdown",
   "metadata": {},
   "source": [
    "### Building the model"
   ]
  },
  {
   "cell_type": "code",
   "execution_count": 19,
   "metadata": {},
   "outputs": [],
   "source": [
    "nb = MultinomialNB() #create the model\n",
    "X = docu_feat #the document-feature matrix is the X matrix\n",
    "y = df_sel['character'] #creating the y vector\n",
    "\n",
    "X_train, X_test, y_train, y_test = train_test_split(X, y, test_size=0.3) #split the data and store it\n",
    "\n",
    "nb = nb.fit(X_train, y_train) #fit the model X=features, y=character"
   ]
  },
  {
   "cell_type": "markdown",
   "metadata": {},
   "source": [
    "## Evaluation"
   ]
  },
  {
   "cell_type": "code",
   "execution_count": 20,
   "metadata": {
    "scrolled": true
   },
   "outputs": [
    {
     "data": {
      "text/plain": [
       "0.2944964482506805"
      ]
     },
     "execution_count": 20,
     "metadata": {},
     "output_type": "execute_result"
    }
   ],
   "source": [
    "y_test_p = nb.predict(X_test)\n",
    "nb.score(X_test, y_test)"
   ]
  },
  {
   "cell_type": "code",
   "execution_count": 21,
   "metadata": {
    "scrolled": true
   },
   "outputs": [
    {
     "name": "stdout",
     "output_type": "stream",
     "text": [
      "              precision    recall  f1-score   support\n",
      "\n",
      "    chandler       0.30      0.19      0.23      2491\n",
      "        joey       0.31      0.36      0.33      2439\n",
      "      monica       0.29      0.22      0.25      2450\n",
      "      phoebe       0.35      0.19      0.25      2181\n",
      "      rachel       0.27      0.52      0.36      2743\n",
      "        ross       0.30      0.26      0.27      2759\n",
      "\n",
      "    accuracy                           0.29     15063\n",
      "   macro avg       0.30      0.29      0.28     15063\n",
      "weighted avg       0.30      0.29      0.28     15063\n",
      "\n"
     ]
    }
   ],
   "source": [
    "print(classification_report(y_test, y_test_p, nb.classes_))"
   ]
  },
  {
   "cell_type": "code",
   "execution_count": 22,
   "metadata": {},
   "outputs": [
    {
     "data": {
      "text/plain": [
       "rachel      0.181465\n",
       "ross        0.179294\n",
       "chandler    0.165352\n",
       "monica      0.164934\n",
       "joey        0.162504\n",
       "phoebe      0.146451\n",
       "Name: character, dtype: float64"
      ]
     },
     "execution_count": 22,
     "metadata": {},
     "output_type": "execute_result"
    }
   ],
   "source": [
    "df['character'].value_counts(normalize=True)"
   ]
  },
  {
   "cell_type": "markdown",
   "metadata": {},
   "source": [
    "Created model is weak, the precision od ~30% is not satisfactory. Nonetheless, it is twice as high than the probabilty of positive prediction if only guessing Phoebe ~15% and almost as twice as hight then the probabilty of positive prediction for other characters if only guessing them.  \n",
    "Moreover the recall values are also low - reaching the lowest value for Phoebe (18%). However, it is important to point out that 50% of Rachel lines were classifed correctly. "
   ]
  },
  {
   "cell_type": "code",
   "execution_count": 23,
   "metadata": {},
   "outputs": [],
   "source": [
    "precision_seasons = []\n",
    "for season in range(1, 11):\n",
    "    s = [f'{season}']\n",
    "    text = df_sel['dialogue'].values.astype('U') \n",
    "    vect = CountVectorizer(stop_words='english')\n",
    "    vect = vect.fit(text) \n",
    "    docu_feat = vect.transform(text)\n",
    "    nb = MultinomialNB()\n",
    "    X = docu_feat \n",
    "    y = df_sel['character']\n",
    "    X_train, X_test, y_train, y_test = train_test_split(X, y, test_size=0.3)\n",
    "    nb = nb.fit(X_train, y_train) \n",
    "    y_test_p = nb.predict(X_test)\n",
    "    \n",
    "    s.append(nb.score(X_test, y_test))\n",
    "    precision_seasons.append(s)\n",
    "\n",
    "precision = pd.DataFrame(precision_seasons, columns = ['season', 'precision'])"
   ]
  },
  {
   "cell_type": "code",
   "execution_count": 24,
   "metadata": {},
   "outputs": [
    {
     "data": {
      "image/png": "[encoded data removed]",
      "text/plain": [
       "<Figure size 432x288 with 1 Axes>"
      ]
     },
     "metadata": {
      "needs_background": "light"
     },
     "output_type": "display_data"
    }
   ],
   "source": [
    "# plot the graph \n",
    "sns.barplot(x = 'season', y = 'precision',\n",
    "            data = precision, palette ='plasma') \n",
    "\n",
    "plt.title('Precision between seasons')\n",
    "\n",
    "plt.show()"
   ]
  },
  {
   "cell_type": "markdown",
   "metadata": {},
   "source": [
    "As one can see from the plot the precision does not very much between the seasons. "
   ]
  },
  {
   "cell_type": "markdown",
   "metadata": {},
   "source": [
    "I want to create a data frame with predictions per dialogue, so i can see for which specific dialogues the prediction was highest for each of the characters"
   ]
  },
  {
   "cell_type": "code",
   "execution_count": 25,
   "metadata": {
    "scrolled": true
   },
   "outputs": [
    {
     "data": {
      "text/html": [
       "<div>\n",
       "<style scoped>\n",
       "    .dataframe tbody tr th:only-of-type {\n",
       "        vertical-align: middle;\n",
       "    }\n",
       "\n",
       "    .dataframe tbody tr th {\n",
       "        vertical-align: top;\n",
       "    }\n",
       "\n",
       "    .dataframe thead th {\n",
       "        text-align: right;\n",
       "    }\n",
       "</style>\n",
       "<table border=\"1\" class=\"dataframe\">\n",
       "  <thead>\n",
       "    <tr style=\"text-align: right;\">\n",
       "      <th></th>\n",
       "      <th>character</th>\n",
       "      <th>dialogue</th>\n",
       "      <th>chandler</th>\n",
       "      <th>joey</th>\n",
       "      <th>monica</th>\n",
       "      <th>phoebe</th>\n",
       "      <th>rachel</th>\n",
       "      <th>ross</th>\n",
       "    </tr>\n",
       "  </thead>\n",
       "  <tbody>\n",
       "    <tr>\n",
       "      <td>0</td>\n",
       "      <td>monica</td>\n",
       "      <td>there's nothing to tell! he's just some guy i...</td>\n",
       "      <td>0.101186</td>\n",
       "      <td>0.137780</td>\n",
       "      <td>0.258449</td>\n",
       "      <td>0.129514</td>\n",
       "      <td>0.185594</td>\n",
       "      <td>0.187477</td>\n",
       "    </tr>\n",
       "    <tr>\n",
       "      <td>1</td>\n",
       "      <td>joey</td>\n",
       "      <td>c'mon, you're going out with the guy! there's...</td>\n",
       "      <td>0.071374</td>\n",
       "      <td>0.233208</td>\n",
       "      <td>0.065518</td>\n",
       "      <td>0.091101</td>\n",
       "      <td>0.260931</td>\n",
       "      <td>0.277868</td>\n",
       "    </tr>\n",
       "    <tr>\n",
       "      <td>2</td>\n",
       "      <td>chandler</td>\n",
       "      <td>all right joey, be nice. so does he have a hu...</td>\n",
       "      <td>0.516610</td>\n",
       "      <td>0.063529</td>\n",
       "      <td>0.150776</td>\n",
       "      <td>0.062046</td>\n",
       "      <td>0.144594</td>\n",
       "      <td>0.062444</td>\n",
       "    </tr>\n",
       "    <tr>\n",
       "      <td>3</td>\n",
       "      <td>phoebe</td>\n",
       "      <td>wait, does he eat chalk?</td>\n",
       "      <td>0.046528</td>\n",
       "      <td>0.080857</td>\n",
       "      <td>0.183010</td>\n",
       "      <td>0.560265</td>\n",
       "      <td>0.065340</td>\n",
       "      <td>0.064000</td>\n",
       "    </tr>\n",
       "    <tr>\n",
       "      <td>4</td>\n",
       "      <td>phoebe</td>\n",
       "      <td>just, 'cause, i don't want her to go through ...</td>\n",
       "      <td>0.055986</td>\n",
       "      <td>0.303852</td>\n",
       "      <td>0.046979</td>\n",
       "      <td>0.137923</td>\n",
       "      <td>0.203081</td>\n",
       "      <td>0.252179</td>\n",
       "    </tr>\n",
       "  </tbody>\n",
       "</table>\n",
       "</div>"
      ],
      "text/plain": [
       "  character                                           dialogue  chandler  \\\n",
       "0    monica   there's nothing to tell! he's just some guy i...  0.101186   \n",
       "1      joey   c'mon, you're going out with the guy! there's...  0.071374   \n",
       "2  chandler   all right joey, be nice. so does he have a hu...  0.516610   \n",
       "3    phoebe                          wait, does he eat chalk?   0.046528   \n",
       "4    phoebe   just, 'cause, i don't want her to go through ...  0.055986   \n",
       "\n",
       "       joey    monica    phoebe    rachel      ross  \n",
       "0  0.137780  0.258449  0.129514  0.185594  0.187477  \n",
       "1  0.233208  0.065518  0.091101  0.260931  0.277868  \n",
       "2  0.063529  0.150776  0.062046  0.144594  0.062444  \n",
       "3  0.080857  0.183010  0.560265  0.065340  0.064000  \n",
       "4  0.303852  0.046979  0.137923  0.203081  0.252179  "
      ]
     },
     "execution_count": 25,
     "metadata": {},
     "output_type": "execute_result"
    }
   ],
   "source": [
    "data = nb.predict_proba(X)\n",
    "df_pred = pd.DataFrame(data, columns = nb.classes_)\n",
    "df_pred = pd.concat([df_sel, df_pred], axis=1, sort=False)\n",
    "df_pred.head()"
   ]
  },
  {
   "cell_type": "code",
   "execution_count": 26,
   "metadata": {},
   "outputs": [
    {
     "name": "stdout",
     "output_type": "stream",
     "text": [
      "\n",
      "The 5 best predictions for chandler are as follows:\n",
      "1. Line:   dum! dum-dum-dum! dum! dum! dum! dum-dum-dum!.\n",
      "1. Prediction: 0.999999973242382.\n",
      "2. Line:  kathy! kathy! hi!! kathy! kathy!  kathy!  fetch! fetch it!  kathy! kathy! kathy!  kathy!  kathy..\n",
      "2. Prediction: 0.9999999723120115.\n",
      "3. Line:  eight and a half hours of aptitude tests, intelligence tests, personality tests... and what do i learn?  \"you are ideally suited for a career in data processing for a large multinational corporation.\".\n",
      "3. Prediction: 0.9999973003756171.\n",
      "4. Line:  you know, on second thought, gum would be perfection.  'gum would be perfection'? 'gum would be perfection.' could have said 'gum would be nice,' or 'i'll have a stick,' but no, no, no, no. for me, gum is perfection. i loathe myself. .\n",
      "4. Prediction: 0.999990254090675.\n",
      "5. Line:  you know he coulda gotten me a vcr, he coulda gotten me a set of golf clubs, but no, he has to get me the woman repeller! the eyesore from the liberace house of crap!.\n",
      "5. Prediction: 0.9999604577060736.\n",
      "\n",
      "The 5 best predictions for joey are as follows:\n",
      "1. Line:   there will come a time in each of your careers when you’ll have a chance to screw over another soap opera actor. i had such an opportunity in the recent, present. and i’m ashamed to say that i took it, i advised a fellow actor to play a role, homosexually. yeah, we both auditioned for the part, and uh, as it turned out, they ah, they liked the stupid gay thing and cast him. and now, he’s got a two year contract opposite susan luchhi, the first lady of daytime television, and me, me i’m stuck here teaching a bunch of people, most of whom are too ugly to even be on tv. i’m sorry, i’m sorry, i’m sorry.  thank you. .\n",
      "1. Prediction: 0.9999999331686831.\n",
      "2. Line:  well. i guess you think you’re pretty special huh? sittin’ up here in your fancy small hall building. makin’ stars jump through hoops for ya, huh? well y’know what?  this is one star who’s hoop… this is a star that the hoop—this hoop—i was dr. drake remoray! .\n",
      "2. Prediction: 0.9999996954643005.\n",
      "3. Line:   any one of the brilliant actresses nominated for this award tonight deserves to take it home. unfortunately only one can.  the nominees for best supporting actress are from passions erin goff.  from one life to live mary loren bishop , from all my children sarah mchann, and from days of our lives jessica ashley. and the winner is……jessica ashley from days of our lives.  uh, unfortunately jessica couldn’t be with us tonight so i’ll be accepting this award on her behalf.  and i’m sure that jessica would like to thank my parents who always believed in me. she’d also like to thank my friends, chandler, monica, ross, phoebe, and rachel who’s sittin’ right there!   .\n",
      "3. Prediction: 0.9999987812696568.\n",
      "4. Line:  ahhhhhhhhhh…  , and lower it a couple of inches, so that the fingers are pointing at your wrist. now take your arms and keeping the elbows bent and your hands in front of you spread out your arms, kinda like making a bird's wing. now hunch your shoulders over and move you hands up and down as if you are trying to tell some one to turn it down. that's ross 'quiet down' maneuver. well, there is an accompanying face, but i don't want to try and describe it as well.).\n",
      "4. Prediction: 0.9999973371210088.\n",
      "5. Line:  hey little buddy, how are you feeling?  what the hell is in that face cream?  that’s so soft.  pillowcases!   zelda looked at the chimney sweep. her father, the vicar… the vicar?  …wouldn’t be home for hours. her loins were burning. she threw caution to the wind and reached out and grabbed his… whoa!  whoa-ho-ho-ho! this is a dirty book!  .\n",
      "5. Prediction: 0.9999954283043645.\n",
      "\n",
      "The 5 best predictions for monica are as follows:\n",
      "1. Line:  why? because everything is my responsibility? isn't it enough that i'm making thanksgiving dinner for everyone? you know, everyone wants a different kind of potatoes, so i'm making different kinds of potatoes. does anybody care what kind of potatoes i want? nooooo, no, no!  just as long as phoebe gets her peas and onions, and mario gets his tots, and it's my first thanksgiving, and it's all burned, and, and i... i....\n",
      "1. Prediction: 0.9999974763298679.\n",
      "2. Line:  no, no it’s going to be great. really! mom, dad, when i got married, one of the things that made me sure i could do it was the amazing example the two of you set for me. for that and so many other things i want to say thank you. i know i probably don’t say it enough, but i love you.  when i look around this room, i’m-i’m saddened by the thought of those who could not be here with us. nana, my beloved grandmother who would so want to be here, but she can’t because she’s dead. as is our dog chi-chi. i mean look how cute she is. . was.  do me a favor and pass this to my parents. remember she’s dead. okay, her and nana, gone. wow! hey does anybody remember when debra winger had to say goodbye to her children in terms of endearment?  didn’t see that? no movie fans?! you want to hear something sad? the other day i was watching 60 minutes these orphans in romania, who have been so neglected, they were incapable of love.  you people are made of stone! here’s to mom and dad! whatever! mrs..\n",
      "2. Prediction: 0.9999950522879617.\n",
      "3. Line:  well, you’re making him a frieze salad with goat cheese and pine nuts, wild nuts, wild rice, roast asparagus, and salmon au croup..\n",
      "3. Prediction: 0.9999886463538628.\n",
      "4. Line:  oh-ho-ho, sweetie, sweetie, you gotta stop saying that, now. it’s no big deal, it’s not even worth mentioning, you see we all do it all the time. see watch this, ben, ben, ben.  ow, monica bang!  everybody bang.  ben bang.  rachel bang.  bang, rachel bang! oh, isn’t that fun?.\n",
      "4. Prediction: 0.9999607533715651.\n",
      "5. Line:  okay, we're gonna start in the kitchen. plates get put into plate protectors and stacked ten to a box. the silverware gets bundled in rubber bands and then bubble wrapped. got it? phoebe and.\n",
      "5. Prediction: 0.9998585697424913.\n",
      "\n",
      "The 5 best predictions for phoebe are as follows:\n",
      "1. Line:  oh, come on! yes, remember that time on the frozen lake? we were playing chess, you said i was boring, and then you took off your energy mask and you were cameron diaz!  okay, there's a chance this may have been a dream.  i've been through the desert on a horse with no name! it felt good to be out of the rain. in the desert, you can't remember your name, 'cause there ain't no one for to give you no pain. la…la…la-la-la, la, la, la, la-la-la. you get the idea. anyhoo, he pulls up and stops. as he gets out of the car, he spills a huge pill of fast food containers out of the foot well.].\n",
      "1. Prediction: 1.0.\n",
      "2. Line:     it only takes two heart attacks to finally make you see…     one of them won’t do it, but the second one will set you free…     tell all your hate and anger, it’s time to say good-bye…     and that is just what i will do, soon as those bastards i work for die!     la, la-la-la, la-la-la-la, la-la-la, la-la-la……    end    .\n",
      "2. Prediction: 1.0.\n",
      "3. Line:  i can be a waitress. ok watch this. um, gimme two number ones, 86 the bacon, one adam and eve on a raft and rick'em, la-la-la-la-la, la-la-la-la-la.   .\n",
      "3. Prediction: 0.99999999999946.\n",
      "4. Line:  ok, um, i'm gonna play, um, some songs about grandparents, ok.  now, grandma's a person who everyone likes, she bought you a train and a bright, shiny bike. but lately she hasn't been coming to dinner, and last time you saw her she looked so much thinner. now, your mom and your dad said she moved to peru, but the truth is she died and some day you will too. la-la-la la la-la-la la la-la-la la...   .\n",
      "4. Prediction: 0.9999999999954525.\n",
      "5. Line:   love is sweet as summer showers, love is a wondrous work of art, but your love oh your love, your love...is like a giant pigeon...crapping on my heart. la-la-la-la-la-  thank you.  la-la-la-la...ohhh! .\n",
      "5. Prediction: 0.999999999990024.\n",
      "\n",
      "The 5 best predictions for rachel are as follows:\n",
      "1. Line:  now you're probably going to hire one of the people who did not ah,  who did, who did not umm, yell at you and storm out, and i think that's a big mistake and here's why. i made a huge fool of myself and i came back, that shows courage. when i thought you wanted sex in exchange for this job, i said no. that shows integrity. and, i was not afraid to stand up for myself and that shows courage.  okay umm, now i know i already said courage, but y'know you gotta have courage. and umm, and finally when i thought you were making sexual advances in the workplace, i said no and i was not litigious.  so there you go, you got, you got  courage, you got integrity, you got  courage again, and not litigious. look mr… mr..\n",
      "1. Prediction: 0.9999999997691589.\n",
      "2. Line:  okay... aahhh... please laugh for mommy... please?    please laugh for mommy...  not funny huh? oh so, is it... only offensive novelty    rap? or maybe just, you know, rap in general? 'cause mommy can rap...  my    name is mommy and i'm here to say / that all the babies are... oh, i can't    rap... allright sweetheart... this is only because i love you so much, and i    know that you're not gonna tell anybody...  i    like... big butts and i cannot lie... / you other brothers can't deny... / when    a girl walks in with an itty bitty waist and a round thing in your face...  yes! yes! yes! yes! oohhhhh! oh!  i like big butts and    i cannot lie... / you other brothers can't deny... oh emma you're laughing!    oh you are, you really do like big butts, don't you. oh you beautiful little    weirdo... .\n",
      "2. Prediction: 0.9999999961329422.\n",
      "3. Line:  ow ow ow. ow ow ow ow. ow ow ow. ow. ow. ow. ow. .\n",
      "3. Prediction: 0.999999995307931.\n",
      "4. Line:  here, kitty-kitty. here kitty-kitty. where did you go, little kitty-kitty-kitty? here kitty-kitty-kitty-kitty... .\n",
      "4. Prediction: 0.9999992365417328.\n",
      "5. Line:   c'mon daddy, listen to me! all of my life, everyone has always told me, 'you're a shoe! you're a shoe, you're a shoe, you're a shoe!'. and today i just stopped and i said, 'what if i don't wanna be a shoe? what if i wanna be a- a purse, y'know? or a- or a hat! no, i don't want you to buy me a hat, i'm saying that i am a ha- it's a metaphor, daddy!.\n",
      "5. Prediction: 0.999999209380462.\n",
      "\n",
      "The 5 best predictions for ross are as follows:\n",
      "1. Line:  hey, hey buddy, marcel. marcel.  in the jungle, the mighty jungle the lion sleeps tonight.  in the jungle, the mighty jungle the lion sleeps tonight.  a-weema-way, a-weema-way.....     security.\n",
      "1. Prediction: 0.9999999716887094.\n",
      "2. Line:  a pigeon, a pigeon.  no, no  wait, no-no, an eagle flew in. landed on the stove and caught fire. the baby,  seeing this, jumps across the apartment to the mighty birds aid. the eagle,  however, misconstrues as an act of aggression and grabs the baby on its talon.  meanwhile the faucet fills the apartment with water. baby and bird still up lays   are locked in a death grip, swirling around the whirl pool, that fills the  apartment..\n",
      "2. Prediction: 0.9999994741724226.\n",
      "3. Line:  hi, we're visitiing. it's ben and his da-da. da-da. can you say da-da? look, i'm gonna tell your momies you said it anyway so you might as well try. .\n",
      "3. Prediction: 0.9999987482682702.\n",
      "4. Line:  it’s ben and his da-da. da-da? can you say da-da? y’know, you might as well say it because i told your….\n",
      "4. Prediction: 0.9999964635405411.\n",
      "5. Line:  hey! i just got uh, my teacher evaluations! check out what this one student wrote, \"i loved dr. geller’s class. mind blowing lectures! dr. geller, you are definitely the hottie of the paleontology department!\".\n",
      "5. Prediction: 0.9999938970086717.\n"
     ]
    }
   ],
   "source": [
    "for character in df_pred.columns[2:]:\n",
    "    print(f\"\\nThe 5 best predictions for {character} are as follows:\")\n",
    "    n = 1\n",
    "    for line in df_pred.nlargest(5, [character]).dialogue:\n",
    "        print(f\"{n}. Line: {line}.\")\n",
    "        print(f\"{n}. Prediction: {df_pred.nlargest(5, [character])[character].iloc[n-1]}.\")\n",
    "        n+=1"
   ]
  },
  {
   "cell_type": "markdown",
   "metadata": {},
   "source": [
    "Because of the low precision value I have decided to additionally create a model using only dialogues longer than 150 characters. "
   ]
  },
  {
   "cell_type": "code",
   "execution_count": 27,
   "metadata": {},
   "outputs": [
    {
     "name": "stderr",
     "output_type": "stream",
     "text": [
      "/Users/julka/opt/anaconda3/lib/python3.7/site-packages/ipykernel_launcher.py:1: SettingWithCopyWarning: \n",
      "A value is trying to be set on a copy of a slice from a DataFrame.\n",
      "Try using .loc[row_indexer,col_indexer] = value instead\n",
      "\n",
      "See the caveats in the documentation: http://pandas.pydata.org/pandas-docs/stable/user_guide/indexing.html#returning-a-view-versus-a-copy\n",
      "  \"\"\"Entry point for launching an IPython kernel.\n"
     ]
    }
   ],
   "source": [
    "df_sel['length'] = [len(x) for x in df_sel.dialogue]\n",
    "df_sel2 = df_sel[df_sel.length > 150]"
   ]
  },
  {
   "cell_type": "markdown",
   "metadata": {},
   "source": [
    "## Predictive model (over 150 characters)"
   ]
  },
  {
   "cell_type": "markdown",
   "metadata": {},
   "source": [
    "### Pre-processing "
   ]
  },
  {
   "cell_type": "code",
   "execution_count": 28,
   "metadata": {},
   "outputs": [],
   "source": [
    "text = df_sel2['dialogue'].values.astype('U') #Taking the text from the df. We need to convert it to Unicode\n",
    "vect = CountVectorizer(stop_words='english') #Create the CV object, with English stop words\n",
    "vect = vect.fit(text) #We fit the model with the words from the review text\n",
    "docu_feat = vect.transform(text) # make a matrix"
   ]
  },
  {
   "cell_type": "markdown",
   "metadata": {},
   "source": [
    "### Building the model"
   ]
  },
  {
   "cell_type": "code",
   "execution_count": 29,
   "metadata": {},
   "outputs": [],
   "source": [
    "nb = MultinomialNB() #create the model\n",
    "X = docu_feat #the document-feature matrix is the X matrix\n",
    "y = df_sel2['character'] #creating the y vector\n",
    "\n",
    "X_train, X_test, y_train, y_test = train_test_split(X, y, test_size=0.3) #split the data and store it\n",
    "\n",
    "nb = nb.fit(X_train, y_train) #fit the model X=features, y=character"
   ]
  },
  {
   "cell_type": "markdown",
   "metadata": {},
   "source": [
    "### Evaluation"
   ]
  },
  {
   "cell_type": "code",
   "execution_count": 30,
   "metadata": {
    "scrolled": true
   },
   "outputs": [
    {
     "data": {
      "text/plain": [
       "0.34022988505747126"
      ]
     },
     "execution_count": 30,
     "metadata": {},
     "output_type": "execute_result"
    }
   ],
   "source": [
    "y_test_p = nb.predict(X_test)\n",
    "nb.score(X_test, y_test)"
   ]
  },
  {
   "cell_type": "code",
   "execution_count": 31,
   "metadata": {
    "scrolled": true
   },
   "outputs": [
    {
     "name": "stdout",
     "output_type": "stream",
     "text": [
      "              precision    recall  f1-score   support\n",
      "\n",
      "    chandler       0.25      0.14      0.18       123\n",
      "        joey       0.39      0.40      0.39       138\n",
      "      monica       0.37      0.12      0.18       115\n",
      "      phoebe       0.32      0.26      0.29       151\n",
      "      rachel       0.33      0.54      0.41       180\n",
      "        ross       0.35      0.45      0.40       163\n",
      "\n",
      "    accuracy                           0.34       870\n",
      "   macro avg       0.34      0.32      0.31       870\n",
      "weighted avg       0.34      0.34      0.32       870\n",
      "\n"
     ]
    }
   ],
   "source": [
    "print(classification_report(y_test, y_test_p, nb.classes_))"
   ]
  },
  {
   "cell_type": "code",
   "execution_count": 32,
   "metadata": {},
   "outputs": [
    {
     "data": {
      "text/plain": [
       "ross        0.194272\n",
       "rachel      0.189096\n",
       "phoebe      0.169772\n",
       "joey        0.165286\n",
       "chandler    0.147343\n",
       "monica      0.134231\n",
       "Name: character, dtype: float64"
      ]
     },
     "execution_count": 32,
     "metadata": {},
     "output_type": "execute_result"
    }
   ],
   "source": [
    "df_sel2['character'].value_counts(normalize=True)"
   ]
  },
  {
   "cell_type": "markdown",
   "metadata": {},
   "source": [
    "As predicted the model basing on only longer strings works better than the previous one. The general precision is ~ 35%. Further, the recall for some of the characters has greatly risen (ex. Rachel, Ross, Phoebe). Nonetheless it has dropped for the others - Monica, Chandler. It has remiained the same for Joey. What's interesting the normalized value counts is also very close to the one in the previous model.  From the table above we can also sea that Ross is the one longest dialogues."
   ]
  },
  {
   "cell_type": "markdown",
   "metadata": {},
   "source": [
    "Both of the presented models were created due to personal interest, i do not see any practical applications from this analysis."
   ]
  },
  {
   "cell_type": "code",
   "execution_count": null,
   "metadata": {},
   "outputs": [],
   "source": []
  }
 ],
 "metadata": {
  "kernelspec": {
   "display_name": "Python 3",
   "language": "python",
   "name": "python3"
  },
  "language_info": {
   "codemirror_mode": {
    "name": "ipython",
    "version": 3
   },
   "file_extension": ".py",
   "mimetype": "text/x-python",
   "name": "python",
   "nbconvert_exporter": "python",
   "pygments_lexer": "ipython3",
   "version": "3.7.4"
  }
 },
 "nbformat": 4,
 "nbformat_minor": 2
}
