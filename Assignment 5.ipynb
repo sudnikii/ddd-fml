{
 "cells": [
  {
   "cell_type": "markdown",
   "metadata": {},
   "source": [
    "# Asignment 5"
   ]
  },
  {
   "cell_type": "code",
   "execution_count": 74,
   "metadata": {},
   "outputs": [],
   "source": [
    "import pandas as pd\n",
    "from sklearn.feature_extraction.text import CountVectorizer\n",
    "from sklearn.model_selection import train_test_split\n",
    "from sklearn.metrics import confusion_matrix\n",
    "from sklearn.naive_bayes import MultinomialNB"
   ]
  },
  {
   "cell_type": "code",
   "execution_count": 75,
   "metadata": {},
   "outputs": [],
   "source": [
    "df = pd.read_csv('Assignment text mining - data clothing reviews.csv')\n",
    "df = df.dropna() #get rid of rows with empty cells\n",
    "df = df[df[\"Class Name\"] == \"Dresses\"] #get only reviews about the dresses\n",
    "df = df[[\"Review Text\", \"Rating\"]]"
   ]
  },
  {
   "cell_type": "code",
   "execution_count": 76,
   "metadata": {},
   "outputs": [],
   "source": [
    "for row in range(0, len(df)):\n",
    "    if (df.iloc[row, 1] > 3):\n",
    "        df.iloc[row, 1] = \"positive\"\n",
    "    else:\n",
    "        df.iloc[row, 1] = \"negative\""
   ]
  },
  {
   "cell_type": "code",
   "execution_count": 77,
   "metadata": {},
   "outputs": [
    {
     "data": {
      "text/html": [
       "<div>\n",
       "<style scoped>\n",
       "    .dataframe tbody tr th:only-of-type {\n",
       "        vertical-align: middle;\n",
       "    }\n",
       "\n",
       "    .dataframe tbody tr th {\n",
       "        vertical-align: top;\n",
       "    }\n",
       "\n",
       "    .dataframe thead th {\n",
       "        text-align: right;\n",
       "    }\n",
       "</style>\n",
       "<table border=\"1\" class=\"dataframe\">\n",
       "  <thead>\n",
       "    <tr style=\"text-align: right;\">\n",
       "      <th></th>\n",
       "      <th>Review Text</th>\n",
       "      <th>Rating</th>\n",
       "    </tr>\n",
       "  </thead>\n",
       "  <tbody>\n",
       "    <tr>\n",
       "      <td>2</td>\n",
       "      <td>I had such high hopes for this dress and reall...</td>\n",
       "      <td>negative</td>\n",
       "    </tr>\n",
       "    <tr>\n",
       "      <td>5</td>\n",
       "      <td>I love tracy reese dresses, but this one is no...</td>\n",
       "      <td>negative</td>\n",
       "    </tr>\n",
       "    <tr>\n",
       "      <td>8</td>\n",
       "      <td>I love this dress. i usually get an xs but it ...</td>\n",
       "      <td>positive</td>\n",
       "    </tr>\n",
       "    <tr>\n",
       "      <td>9</td>\n",
       "      <td>I'm 5\"5' and 125 lbs. i ordered the s petite t...</td>\n",
       "      <td>positive</td>\n",
       "    </tr>\n",
       "    <tr>\n",
       "      <td>10</td>\n",
       "      <td>Dress runs small esp where the zipper area run...</td>\n",
       "      <td>negative</td>\n",
       "    </tr>\n",
       "  </tbody>\n",
       "</table>\n",
       "</div>"
      ],
      "text/plain": [
       "                                          Review Text    Rating\n",
       "2   I had such high hopes for this dress and reall...  negative\n",
       "5   I love tracy reese dresses, but this one is no...  negative\n",
       "8   I love this dress. i usually get an xs but it ...  positive\n",
       "9   I'm 5\"5' and 125 lbs. i ordered the s petite t...  positive\n",
       "10  Dress runs small esp where the zipper area run...  negative"
      ]
     },
     "execution_count": 77,
     "metadata": {},
     "output_type": "execute_result"
    }
   ],
   "source": [
    "df.head()"
   ]
  },
  {
   "cell_type": "code",
   "execution_count": 78,
   "metadata": {},
   "outputs": [],
   "source": [
    "nb = MultinomialNB() #create the model\n",
    "X = docu_feat #the document-feature matrix is the X matrix\n",
    "y = df['Rating'] #creating the y vector\n",
    "\n",
    "X_train, X_test, y_train, y_test = train_test_split(X, y, test_size=0.3) #split the data and store it\n",
    "\n",
    "nb = nb.fit(X_train, y_train) #fit the model X=features, y=character"
   ]
  },
  {
   "cell_type": "code",
   "execution_count": 79,
   "metadata": {},
   "outputs": [
    {
     "data": {
      "text/plain": [
       "0.8455334987593052"
      ]
     },
     "execution_count": 79,
     "metadata": {},
     "output_type": "execute_result"
    }
   ],
   "source": [
    "#Evaluate the model\n",
    "y_test_p = nb.predict(X_test)\n",
    "nb.score(X_test, y_test)"
   ]
  },
  {
   "cell_type": "code",
   "execution_count": 80,
   "metadata": {},
   "outputs": [
    {
     "data": {
      "text/plain": [
       "positive    0.753119\n",
       "negative    0.246881\n",
       "Name: Rating, dtype: float64"
      ]
     },
     "execution_count": 80,
     "metadata": {},
     "output_type": "execute_result"
    }
   ],
   "source": [
    "df['Rating'].value_counts(normalize=True)"
   ]
  },
  {
   "cell_type": "code",
   "execution_count": 81,
   "metadata": {},
   "outputs": [
    {
     "data": {
      "text/plain": [
       "array(['negative', 'positive'], dtype='<U8')"
      ]
     },
     "execution_count": 81,
     "metadata": {},
     "output_type": "execute_result"
    }
   ],
   "source": [
    "nb.classes_ #check the order"
   ]
  },
  {
   "cell_type": "code",
   "execution_count": 82,
   "metadata": {},
   "outputs": [
    {
     "data": {
      "text/html": [
       "<div>\n",
       "<style scoped>\n",
       "    .dataframe tbody tr th:only-of-type {\n",
       "        vertical-align: middle;\n",
       "    }\n",
       "\n",
       "    .dataframe tbody tr th {\n",
       "        vertical-align: top;\n",
       "    }\n",
       "\n",
       "    .dataframe thead th {\n",
       "        text-align: right;\n",
       "    }\n",
       "</style>\n",
       "<table border=\"1\" class=\"dataframe\">\n",
       "  <thead>\n",
       "    <tr style=\"text-align: right;\">\n",
       "      <th></th>\n",
       "      <th>negative pred</th>\n",
       "      <th>positive pred</th>\n",
       "    </tr>\n",
       "  </thead>\n",
       "  <tbody>\n",
       "    <tr>\n",
       "      <td>negative</td>\n",
       "      <td>234</td>\n",
       "      <td>176</td>\n",
       "    </tr>\n",
       "    <tr>\n",
       "      <td>positive</td>\n",
       "      <td>73</td>\n",
       "      <td>1129</td>\n",
       "    </tr>\n",
       "  </tbody>\n",
       "</table>\n",
       "</div>"
      ],
      "text/plain": [
       "          negative pred  positive pred\n",
       "negative            234            176\n",
       "positive             73           1129"
      ]
     },
     "execution_count": 82,
     "metadata": {},
     "output_type": "execute_result"
    }
   ],
   "source": [
    "cm = confusion_matrix(y_test, y_test_p)\n",
    "cm = pd.DataFrame(cm, index=['negative', 'positive'], columns=['negative pred', 'positive pred'])\n",
    "cm"
   ]
  },
  {
   "cell_type": "code",
   "execution_count": 83,
   "metadata": {},
   "outputs": [
    {
     "name": "stdout",
     "output_type": "stream",
     "text": [
      "The precision for negative reviews is: 0.762214983713355\n",
      "The recall for negative reviews is: 0.5707317073170731\n",
      "The precision for positive reviews is: 0.8651340996168583\n",
      "The recall for positive reviews is: 0.9392678868552413\n"
     ]
    }
   ],
   "source": [
    "print(f\"The precision for negative reviews is: {cm.iloc[0,0]/(cm.iloc[0,0]+cm.iloc[1,0])}\")\n",
    "print(f\"The recall for negative reviews is: {cm.iloc[0,0]/(cm.iloc[0,0]+cm.iloc[0,1])}\")\n",
    "print(f\"The precision for positive reviews is: {cm.iloc[1,1]/(cm.iloc[1,1]+cm.iloc[0,1])}\")\n",
    "print(f\"The recall for positive reviews is: {cm.iloc[1,1]/(cm.iloc[1,1]+cm.iloc[1,0])}\")"
   ]
  },
  {
   "cell_type": "code",
   "execution_count": 84,
   "metadata": {},
   "outputs": [
    {
     "name": "stdout",
     "output_type": "stream",
     "text": [
      "              precision    recall  f1-score   support\n",
      "\n",
      "    negative       0.76      0.57      0.65       410\n",
      "    positive       0.87      0.94      0.90      1202\n",
      "\n",
      "    accuracy                           0.85      1612\n",
      "   macro avg       0.81      0.75      0.78      1612\n",
      "weighted avg       0.84      0.85      0.84      1612\n",
      "\n"
     ]
    }
   ],
   "source": [
    "from sklearn.metrics import classification_report\n",
    "print(classification_report(y_test, y_test_p, nb.classes_)) #this function needs the class names, which are in nb.classes_"
   ]
  },
  {
   "cell_type": "code",
   "execution_count": 85,
   "metadata": {},
   "outputs": [
    {
     "name": "stdout",
     "output_type": "stream",
     "text": [
      "Line: 0. I had such high hopes for this dress and really wanted it to work for me. i initially ordered the petite small (my usual size) but i found this to be outrageously small. so small in fact that i could not zip it up! i reordered it in petite medium, which was just ok. overall, the top half was comfortable and fit nicely, but the bottom half had a very tight under layer and several somewhat cheap (net) over layers. imo, a major design flaw was the net over layer sewn directly into the zipper - it c\n",
      "negative\n",
      "Negative: 0.9998046938955576, Positive: 0.0001953061044257937\n",
      "Line: 1. I love tracy reese dresses, but this one is not for the very petite. i am just under 5 feet tall and usually wear a 0p in this brand. this dress was very pretty out of the package but its a lot of dress. the skirt is long and very full so it overwhelmed my small frame. not a stranger to alterations, shortening and narrowing the skirt would take away from the embellishment of the garment. i love the color and the idea of the style but it just did not work on me. i returned this dress.\n",
      "negative\n",
      "Negative: 0.9580452661658624, Positive: 0.04195473383415889\n"
     ]
    }
   ],
   "source": [
    "for i in range(2):\n",
    "    prob = nb.predict_proba(X[i])\n",
    "    print(f\"Line: {i}. {df.iloc[i,0]}\")\n",
    "    print(df.iloc[i, 1])\n",
    "    print(f\"Negative: {prob[0,0]}, Positive: {prob[0,1]}\")"
   ]
  },
  {
   "cell_type": "code",
   "execution_count": 88,
   "metadata": {},
   "outputs": [
    {
     "name": "stderr",
     "output_type": "stream",
     "text": [
      "/Users/julka/opt/anaconda3/lib/python3.7/site-packages/pandas/core/indexing.py:205: SettingWithCopyWarning: \n",
      "A value is trying to be set on a copy of a slice from a DataFrame\n",
      "\n",
      "See the caveats in the documentation: http://pandas.pydata.org/pandas-docs/stable/user_guide/indexing.html#returning-a-view-versus-a-copy\n",
      "  self._setitem_with_indexer(indexer, value)\n"
     ]
    }
   ],
   "source": [
    "df[\"Negative prob\"] = 0\n",
    "df[\"Positive prob\"] = 0\n",
    "\n",
    "for i in range(0, len(df)):\n",
    "    prob = nb.predict_proba(X[i])\n",
    "    df[\"Negative prob\"].iloc[i] = prob[0,0]\n",
    "    df[\"Positive prob\"].iloc[i] = prob[0,1]"
   ]
  },
  {
   "cell_type": "code",
   "execution_count": 94,
   "metadata": {},
   "outputs": [
    {
     "data": {
      "text/html": [
       "<div>\n",
       "<style scoped>\n",
       "    .dataframe tbody tr th:only-of-type {\n",
       "        vertical-align: middle;\n",
       "    }\n",
       "\n",
       "    .dataframe tbody tr th {\n",
       "        vertical-align: top;\n",
       "    }\n",
       "\n",
       "    .dataframe thead th {\n",
       "        text-align: right;\n",
       "    }\n",
       "</style>\n",
       "<table border=\"1\" class=\"dataframe\">\n",
       "  <thead>\n",
       "    <tr style=\"text-align: right;\">\n",
       "      <th></th>\n",
       "      <th>Review Text</th>\n",
       "      <th>Rating</th>\n",
       "      <th>Negative prob</th>\n",
       "      <th>Positive prob</th>\n",
       "    </tr>\n",
       "  </thead>\n",
       "  <tbody>\n",
       "    <tr>\n",
       "      <td>2</td>\n",
       "      <td>I had such high hopes for this dress and reall...</td>\n",
       "      <td>negative</td>\n",
       "      <td>0.999805</td>\n",
       "      <td>0.000195</td>\n",
       "    </tr>\n",
       "    <tr>\n",
       "      <td>5</td>\n",
       "      <td>I love tracy reese dresses, but this one is no...</td>\n",
       "      <td>negative</td>\n",
       "      <td>0.958045</td>\n",
       "      <td>0.041955</td>\n",
       "    </tr>\n",
       "    <tr>\n",
       "      <td>8</td>\n",
       "      <td>I love this dress. i usually get an xs but it ...</td>\n",
       "      <td>positive</td>\n",
       "      <td>0.000312</td>\n",
       "      <td>0.999688</td>\n",
       "    </tr>\n",
       "    <tr>\n",
       "      <td>9</td>\n",
       "      <td>I'm 5\"5' and 125 lbs. i ordered the s petite t...</td>\n",
       "      <td>positive</td>\n",
       "      <td>0.000006</td>\n",
       "      <td>0.999994</td>\n",
       "    </tr>\n",
       "    <tr>\n",
       "      <td>10</td>\n",
       "      <td>Dress runs small esp where the zipper area run...</td>\n",
       "      <td>negative</td>\n",
       "      <td>0.999484</td>\n",
       "      <td>0.000516</td>\n",
       "    </tr>\n",
       "    <tr>\n",
       "      <td>12</td>\n",
       "      <td>More and more i find myself reliant on the rev...</td>\n",
       "      <td>positive</td>\n",
       "      <td>0.986054</td>\n",
       "      <td>0.013946</td>\n",
       "    </tr>\n",
       "    <tr>\n",
       "      <td>14</td>\n",
       "      <td>This is a nice choice for holiday gatherings. ...</td>\n",
       "      <td>negative</td>\n",
       "      <td>0.844885</td>\n",
       "      <td>0.155115</td>\n",
       "    </tr>\n",
       "    <tr>\n",
       "      <td>19</td>\n",
       "      <td>I love the look and feel of this tulle dress. ...</td>\n",
       "      <td>positive</td>\n",
       "      <td>0.000015</td>\n",
       "      <td>0.999985</td>\n",
       "    </tr>\n",
       "    <tr>\n",
       "      <td>21</td>\n",
       "      <td>I'm upset because for the price of the dress, ...</td>\n",
       "      <td>positive</td>\n",
       "      <td>0.038079</td>\n",
       "      <td>0.961921</td>\n",
       "    </tr>\n",
       "    <tr>\n",
       "      <td>22</td>\n",
       "      <td>First of all, this is not pullover styling. th...</td>\n",
       "      <td>negative</td>\n",
       "      <td>0.999743</td>\n",
       "      <td>0.000257</td>\n",
       "    </tr>\n",
       "    <tr>\n",
       "      <td>23</td>\n",
       "      <td>Cute little dress fits tts. it is a little hig...</td>\n",
       "      <td>negative</td>\n",
       "      <td>0.393851</td>\n",
       "      <td>0.606149</td>\n",
       "    </tr>\n",
       "    <tr>\n",
       "      <td>60</td>\n",
       "      <td>This dress is simply beautiful and stunning. i...</td>\n",
       "      <td>positive</td>\n",
       "      <td>0.000025</td>\n",
       "      <td>0.999975</td>\n",
       "    </tr>\n",
       "    <tr>\n",
       "      <td>69</td>\n",
       "      <td>I really wanted this to work. alas, it had a s...</td>\n",
       "      <td>negative</td>\n",
       "      <td>0.999233</td>\n",
       "      <td>0.000767</td>\n",
       "    </tr>\n",
       "    <tr>\n",
       "      <td>76</td>\n",
       "      <td>I would have loved this dress if the bust and ...</td>\n",
       "      <td>positive</td>\n",
       "      <td>0.077403</td>\n",
       "      <td>0.922597</td>\n",
       "    </tr>\n",
       "    <tr>\n",
       "      <td>79</td>\n",
       "      <td>This dress is adorable - it's a perfect casual...</td>\n",
       "      <td>positive</td>\n",
       "      <td>0.000184</td>\n",
       "      <td>0.999816</td>\n",
       "    </tr>\n",
       "  </tbody>\n",
       "</table>\n",
       "</div>"
      ],
      "text/plain": [
       "                                          Review Text    Rating  \\\n",
       "2   I had such high hopes for this dress and reall...  negative   \n",
       "5   I love tracy reese dresses, but this one is no...  negative   \n",
       "8   I love this dress. i usually get an xs but it ...  positive   \n",
       "9   I'm 5\"5' and 125 lbs. i ordered the s petite t...  positive   \n",
       "10  Dress runs small esp where the zipper area run...  negative   \n",
       "12  More and more i find myself reliant on the rev...  positive   \n",
       "14  This is a nice choice for holiday gatherings. ...  negative   \n",
       "19  I love the look and feel of this tulle dress. ...  positive   \n",
       "21  I'm upset because for the price of the dress, ...  positive   \n",
       "22  First of all, this is not pullover styling. th...  negative   \n",
       "23  Cute little dress fits tts. it is a little hig...  negative   \n",
       "60  This dress is simply beautiful and stunning. i...  positive   \n",
       "69  I really wanted this to work. alas, it had a s...  negative   \n",
       "76  I would have loved this dress if the bust and ...  positive   \n",
       "79  This dress is adorable - it's a perfect casual...  positive   \n",
       "\n",
       "    Negative prob  Positive prob  \n",
       "2        0.999805       0.000195  \n",
       "5        0.958045       0.041955  \n",
       "8        0.000312       0.999688  \n",
       "9        0.000006       0.999994  \n",
       "10       0.999484       0.000516  \n",
       "12       0.986054       0.013946  \n",
       "14       0.844885       0.155115  \n",
       "19       0.000015       0.999985  \n",
       "21       0.038079       0.961921  \n",
       "22       0.999743       0.000257  \n",
       "23       0.393851       0.606149  \n",
       "60       0.000025       0.999975  \n",
       "69       0.999233       0.000767  \n",
       "76       0.077403       0.922597  \n",
       "79       0.000184       0.999816  "
      ]
     },
     "execution_count": 94,
     "metadata": {},
     "output_type": "execute_result"
    }
   ],
   "source": [
    "df.head(15)"
   ]
  },
  {
   "cell_type": "code",
   "execution_count": 122,
   "metadata": {},
   "outputs": [],
   "source": [
    "df_off = df[(df.Rating == \"positive\") & (df[\"Positive prob\"] < 0.30)].iloc[1:4]"
   ]
  },
  {
   "cell_type": "code",
   "execution_count": 125,
   "metadata": {},
   "outputs": [
    {
     "name": "stdout",
     "output_type": "stream",
     "text": [
      "1\n",
      "I loved this dress as soon as i tried it on, but... it bunched up weird in the front around my hips. i ordered a second size 4, hoping that it would fit better. but same thing. if i tried to go to a size 6 it would be too big every where else. fyi - i'm 5'8\" 129lbs and i'm a runner. it's not like i have a huge backside or anything. my guess is sizing is off. i've tried another of his dresses and it fit perfectly.\n",
      "2\n",
      "I am returning the dress because it smells heavily of the last purchaser's deodorant and perfume. it was actually nauseating to put on. i am disappointed with retailer that i was sold this dress, full price, in this condition. otherwise, the dress is lovely. it is true to size. i am 5'5\" 110 lbs and the size 0 was perfect.\n",
      "3\n",
      "Very cute dress but the skirt flares out more than it looks in the picture. this made my midsection look unflattering from the side. also, for some who is on the flat chested side, you need a good bra or alteration (at least for me). despite what i listed above, i kept the dress since it's a versatile dress for many occasions.\n"
     ]
    }
   ],
   "source": [
    "#3 examples of positive reviews that were predicted to be negative\n",
    "for i in range(0,3):\n",
    "    print(i+1)\n",
    "    print(df_off.iloc[i, 0])"
   ]
  },
  {
   "cell_type": "markdown",
   "metadata": {},
   "source": [
    "For all the examples users have used positive words such as: perfect, loved, lovely, good, cute. \n",
    "This makes it more difficult for the model to predict the review properly. Moreover, I think in the case of reviews it would be good to leave the stop word \"but\" as it could be a good marker for negative reviews that seem positive because of positive words. "
   ]
  }
 ],
 "metadata": {
  "kernelspec": {
   "display_name": "Python 3",
   "language": "python",
   "name": "python3"
  },
  "language_info": {
   "codemirror_mode": {
    "name": "ipython",
    "version": 3
   },
   "file_extension": ".py",
   "mimetype": "text/x-python",
   "name": "python",
   "nbconvert_exporter": "python",
   "pygments_lexer": "ipython3",
   "version": "3.7.4"
  }
 },
 "nbformat": 4,
 "nbformat_minor": 2
}
